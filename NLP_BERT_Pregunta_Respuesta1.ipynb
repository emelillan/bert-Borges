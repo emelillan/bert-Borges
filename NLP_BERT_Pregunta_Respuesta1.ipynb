{
  "nbformat": 4,
  "nbformat_minor": 0,
  "metadata": {
    "colab": {
      "name": "NLP - BERT - Pregunta-Respuesta1.ipynb",
      "provenance": []
    },
    "kernelspec": {
      "name": "python3",
      "display_name": "Python 3"
    }
  },
  "cells": [
    {
      "cell_type": "code",
      "metadata": {
        "colab": {
          "base_uri": "https://localhost:8080/"
        },
        "id": "myeARuZ58QyE",
        "outputId": "de96c278-879c-4e4b-836e-1daeec6f8d4b"
      },
      "source": [
        "!pip install transformers"
      ],
      "execution_count": 1,
      "outputs": [
        {
          "output_type": "stream",
          "text": [
            "Collecting transformers\n",
            "\u001b[?25l  Downloading https://files.pythonhosted.org/packages/ed/d5/f4157a376b8a79489a76ce6cfe147f4f3be1e029b7144fa7b8432e8acb26/transformers-4.4.2-py3-none-any.whl (2.0MB)\n",
            "\u001b[K     |████████████████████████████████| 2.0MB 5.9MB/s \n",
            "\u001b[?25hRequirement already satisfied: numpy>=1.17 in /usr/local/lib/python3.7/dist-packages (from transformers) (1.19.5)\n",
            "Collecting tokenizers<0.11,>=0.10.1\n",
            "\u001b[?25l  Downloading https://files.pythonhosted.org/packages/71/23/2ddc317b2121117bf34dd00f5b0de194158f2a44ee2bf5e47c7166878a97/tokenizers-0.10.1-cp37-cp37m-manylinux2010_x86_64.whl (3.2MB)\n",
            "\u001b[K     |████████████████████████████████| 3.2MB 45.2MB/s \n",
            "\u001b[?25hRequirement already satisfied: packaging in /usr/local/lib/python3.7/dist-packages (from transformers) (20.9)\n",
            "Requirement already satisfied: filelock in /usr/local/lib/python3.7/dist-packages (from transformers) (3.0.12)\n",
            "Requirement already satisfied: requests in /usr/local/lib/python3.7/dist-packages (from transformers) (2.23.0)\n",
            "Requirement already satisfied: regex!=2019.12.17 in /usr/local/lib/python3.7/dist-packages (from transformers) (2019.12.20)\n",
            "Requirement already satisfied: importlib-metadata; python_version < \"3.8\" in /usr/local/lib/python3.7/dist-packages (from transformers) (3.7.2)\n",
            "Collecting sacremoses\n",
            "\u001b[?25l  Downloading https://files.pythonhosted.org/packages/7d/34/09d19aff26edcc8eb2a01bed8e98f13a1537005d31e95233fd48216eed10/sacremoses-0.0.43.tar.gz (883kB)\n",
            "\u001b[K     |████████████████████████████████| 890kB 24.2MB/s \n",
            "\u001b[?25hRequirement already satisfied: tqdm>=4.27 in /usr/local/lib/python3.7/dist-packages (from transformers) (4.41.1)\n",
            "Requirement already satisfied: pyparsing>=2.0.2 in /usr/local/lib/python3.7/dist-packages (from packaging->transformers) (2.4.7)\n",
            "Requirement already satisfied: certifi>=2017.4.17 in /usr/local/lib/python3.7/dist-packages (from requests->transformers) (2020.12.5)\n",
            "Requirement already satisfied: chardet<4,>=3.0.2 in /usr/local/lib/python3.7/dist-packages (from requests->transformers) (3.0.4)\n",
            "Requirement already satisfied: urllib3!=1.25.0,!=1.25.1,<1.26,>=1.21.1 in /usr/local/lib/python3.7/dist-packages (from requests->transformers) (1.24.3)\n",
            "Requirement already satisfied: idna<3,>=2.5 in /usr/local/lib/python3.7/dist-packages (from requests->transformers) (2.10)\n",
            "Requirement already satisfied: zipp>=0.5 in /usr/local/lib/python3.7/dist-packages (from importlib-metadata; python_version < \"3.8\"->transformers) (3.4.1)\n",
            "Requirement already satisfied: typing-extensions>=3.6.4; python_version < \"3.8\" in /usr/local/lib/python3.7/dist-packages (from importlib-metadata; python_version < \"3.8\"->transformers) (3.7.4.3)\n",
            "Requirement already satisfied: six in /usr/local/lib/python3.7/dist-packages (from sacremoses->transformers) (1.15.0)\n",
            "Requirement already satisfied: click in /usr/local/lib/python3.7/dist-packages (from sacremoses->transformers) (7.1.2)\n",
            "Requirement already satisfied: joblib in /usr/local/lib/python3.7/dist-packages (from sacremoses->transformers) (1.0.1)\n",
            "Building wheels for collected packages: sacremoses\n",
            "  Building wheel for sacremoses (setup.py) ... \u001b[?25l\u001b[?25hdone\n",
            "  Created wheel for sacremoses: filename=sacremoses-0.0.43-cp37-none-any.whl size=893262 sha256=04f9471010b3b90fa86fa9655630edaf88bc4bad4fe9870c56ce9ce74f0c1b34\n",
            "  Stored in directory: /root/.cache/pip/wheels/29/3c/fd/7ce5c3f0666dab31a50123635e6fb5e19ceb42ce38d4e58f45\n",
            "Successfully built sacremoses\n",
            "Installing collected packages: tokenizers, sacremoses, transformers\n",
            "Successfully installed sacremoses-0.0.43 tokenizers-0.10.1 transformers-4.4.2\n"
          ],
          "name": "stdout"
        }
      ]
    },
    {
      "cell_type": "code",
      "metadata": {
        "id": "sq4nfNe5_Fj_"
      },
      "source": [
        "# Importar\n",
        "from transformers import AutoTokenizer, AutoModelForQuestionAnswering, pipeline\n",
        "the_model = 'mrm8488/distill-bert-base-spanish-wwm-cased-finetuned-spa-squad2-es'\n",
        "tokenizer = AutoTokenizer.from_pretrained(the_model, do_lower_case=False)\n",
        "model = AutoModelForQuestionAnswering.from_pretrained(the_model)"
      ],
      "execution_count": null,
      "outputs": []
    },
    {
      "cell_type": "code",
      "metadata": {
        "colab": {
          "base_uri": "https://localhost:8080/"
        },
        "id": "tu8lUDQR_XgQ",
        "outputId": "463a9ca3-bd1a-4e2b-f1dd-299e192e95d1"
      },
      "source": [
        "# Ejemplo tokenización\n",
        "contexto = 'Yo soy Jose Luis Borges'\n",
        "pregunta = '¿cómo me llamo?'\n",
        "\n",
        "encode = tokenizer.encode_plus(pregunta, contexto, return_tensors='pt')\n",
        "input_ids = encode['input_ids'].tolist()\n",
        "tokens = tokenizer.convert_ids_to_tokens(input_ids[0])\n",
        "for id, token in zip(input_ids[0], tokens):\n",
        "  print('{:<12} {:>6}'.format(token, id))\n",
        "  print('')"
      ],
      "execution_count": 4,
      "outputs": [
        {
          "output_type": "stream",
          "text": [
            "[CLS]             4\n",
            "\n",
            "¿              1067\n",
            "\n",
            "cómo           2078\n",
            "\n",
            "me             1129\n",
            "\n",
            "llamo          6861\n",
            "\n",
            "?              1064\n",
            "\n",
            "[SEP]             5\n",
            "\n",
            "Yo             1584\n",
            "\n",
            "soy            2020\n",
            "\n",
            "[UNK]             3\n",
            "\n",
            "Luis           6240\n",
            "\n",
            "Bor            7162\n",
            "\n",
            "##ges          6934\n",
            "\n",
            "[SEP]             5\n",
            "\n"
          ],
          "name": "stdout"
        }
      ]
    },
    {
      "cell_type": "code",
      "metadata": {
        "colab": {
          "base_uri": "https://localhost:8080/"
        },
        "id": "RaGQw6_i_bIr",
        "outputId": "a85b847c-6f4d-45df-ea5c-bb827a86f333"
      },
      "source": [
        "# Ejemplo de inferencia (pregunta-respuesta)\n",
        "nlp = pipeline('question-answering', model=model, tokenizer=tokenizer)\n",
        "salida = nlp({'question':pregunta, 'context':contexto})\n",
        "print(salida)"
      ],
      "execution_count": 5,
      "outputs": [
        {
          "output_type": "stream",
          "text": [
            "{'score': 0.9854076504707336, 'start': 7, 'end': 23, 'answer': 'Jose Luis Borges'}\n"
          ],
          "name": "stdout"
        }
      ]
    },
    {
      "cell_type": "code",
      "metadata": {
        "id": "jnQ7W_vH_dSR"
      },
      "source": [
        "from textwrap import wrap\n",
        "\n",
        "def pregunta_respuesta(model, contexto, nlp):\n",
        "\n",
        "  # Imprimir contexto\n",
        "  print('Contexto:')\n",
        "  print('-----------------')\n",
        "  print('\\n'.join(wrap(contexto)))\n",
        "\n",
        "  # Loop preguntas-respuestas:\n",
        "  continuar = True\n",
        "  while continuar:\n",
        "    print('\\nPregunta:')\n",
        "    print('-----------------')\n",
        "    pregunta = str(input())\n",
        "\n",
        "    continuar = pregunta!=''\n",
        "\n",
        "    if continuar:\n",
        "      salida = nlp({'question':pregunta, 'context':contexto})\n",
        "      print('\\nRespuesta:')\n",
        "      print('-----------------')\n",
        "      print(salida['answer'])\n",
        "\n",
        "\n"
      ],
      "execution_count": 6,
      "outputs": []
    },
    {
      "cell_type": "code",
      "metadata": {
        "colab": {
          "base_uri": "https://localhost:8080/",
          "height": 641
        },
        "id": "5ifSTgIP_ilS",
        "outputId": "5f356448-f1c3-417d-b031-2f886b968d41"
      },
      "source": [
        "pregunta_respuesta(model, contexto, nlp)"
      ],
      "execution_count": 8,
      "outputs": [
        {
          "output_type": "stream",
          "text": [
            "Contexto:\n",
            "-----------------\n",
            "Yo soy Jose Luis Borges\n",
            "\n",
            "Pregunta:\n",
            "-----------------\n"
          ],
          "name": "stdout"
        },
        {
          "output_type": "error",
          "ename": "KeyboardInterrupt",
          "evalue": "ignored",
          "traceback": [
            "\u001b[0;31m---------------------------------------------------------------------------\u001b[0m",
            "\u001b[0;31mKeyboardInterrupt\u001b[0m                         Traceback (most recent call last)",
            "\u001b[0;32m/usr/local/lib/python3.7/dist-packages/ipykernel/kernelbase.py\u001b[0m in \u001b[0;36m_input_request\u001b[0;34m(self, prompt, ident, parent, password)\u001b[0m\n\u001b[1;32m    728\u001b[0m             \u001b[0;32mtry\u001b[0m\u001b[0;34m:\u001b[0m\u001b[0;34m\u001b[0m\u001b[0;34m\u001b[0m\u001b[0m\n\u001b[0;32m--> 729\u001b[0;31m                 \u001b[0mident\u001b[0m\u001b[0;34m,\u001b[0m \u001b[0mreply\u001b[0m \u001b[0;34m=\u001b[0m \u001b[0mself\u001b[0m\u001b[0;34m.\u001b[0m\u001b[0msession\u001b[0m\u001b[0;34m.\u001b[0m\u001b[0mrecv\u001b[0m\u001b[0;34m(\u001b[0m\u001b[0mself\u001b[0m\u001b[0;34m.\u001b[0m\u001b[0mstdin_socket\u001b[0m\u001b[0;34m,\u001b[0m \u001b[0;36m0\u001b[0m\u001b[0;34m)\u001b[0m\u001b[0;34m\u001b[0m\u001b[0;34m\u001b[0m\u001b[0m\n\u001b[0m\u001b[1;32m    730\u001b[0m             \u001b[0;32mexcept\u001b[0m \u001b[0mException\u001b[0m\u001b[0;34m:\u001b[0m\u001b[0;34m\u001b[0m\u001b[0;34m\u001b[0m\u001b[0m\n",
            "\u001b[0;32m/usr/local/lib/python3.7/dist-packages/jupyter_client/session.py\u001b[0m in \u001b[0;36mrecv\u001b[0;34m(self, socket, mode, content, copy)\u001b[0m\n\u001b[1;32m    802\u001b[0m         \u001b[0;32mtry\u001b[0m\u001b[0;34m:\u001b[0m\u001b[0;34m\u001b[0m\u001b[0;34m\u001b[0m\u001b[0m\n\u001b[0;32m--> 803\u001b[0;31m             \u001b[0mmsg_list\u001b[0m \u001b[0;34m=\u001b[0m \u001b[0msocket\u001b[0m\u001b[0;34m.\u001b[0m\u001b[0mrecv_multipart\u001b[0m\u001b[0;34m(\u001b[0m\u001b[0mmode\u001b[0m\u001b[0;34m,\u001b[0m \u001b[0mcopy\u001b[0m\u001b[0;34m=\u001b[0m\u001b[0mcopy\u001b[0m\u001b[0;34m)\u001b[0m\u001b[0;34m\u001b[0m\u001b[0;34m\u001b[0m\u001b[0m\n\u001b[0m\u001b[1;32m    804\u001b[0m         \u001b[0;32mexcept\u001b[0m \u001b[0mzmq\u001b[0m\u001b[0;34m.\u001b[0m\u001b[0mZMQError\u001b[0m \u001b[0;32mas\u001b[0m \u001b[0me\u001b[0m\u001b[0;34m:\u001b[0m\u001b[0;34m\u001b[0m\u001b[0;34m\u001b[0m\u001b[0m\n",
            "\u001b[0;32m/usr/local/lib/python3.7/dist-packages/zmq/sugar/socket.py\u001b[0m in \u001b[0;36mrecv_multipart\u001b[0;34m(self, flags, copy, track)\u001b[0m\n\u001b[1;32m    582\u001b[0m         \"\"\"\n\u001b[0;32m--> 583\u001b[0;31m         \u001b[0mparts\u001b[0m \u001b[0;34m=\u001b[0m \u001b[0;34m[\u001b[0m\u001b[0mself\u001b[0m\u001b[0;34m.\u001b[0m\u001b[0mrecv\u001b[0m\u001b[0;34m(\u001b[0m\u001b[0mflags\u001b[0m\u001b[0;34m,\u001b[0m \u001b[0mcopy\u001b[0m\u001b[0;34m=\u001b[0m\u001b[0mcopy\u001b[0m\u001b[0;34m,\u001b[0m \u001b[0mtrack\u001b[0m\u001b[0;34m=\u001b[0m\u001b[0mtrack\u001b[0m\u001b[0;34m)\u001b[0m\u001b[0;34m]\u001b[0m\u001b[0;34m\u001b[0m\u001b[0;34m\u001b[0m\u001b[0m\n\u001b[0m\u001b[1;32m    584\u001b[0m         \u001b[0;31m# have first part already, only loop while more to receive\u001b[0m\u001b[0;34m\u001b[0m\u001b[0;34m\u001b[0m\u001b[0;34m\u001b[0m\u001b[0m\n",
            "\u001b[0;32mzmq/backend/cython/socket.pyx\u001b[0m in \u001b[0;36mzmq.backend.cython.socket.Socket.recv\u001b[0;34m()\u001b[0m\n",
            "\u001b[0;32mzmq/backend/cython/socket.pyx\u001b[0m in \u001b[0;36mzmq.backend.cython.socket.Socket.recv\u001b[0;34m()\u001b[0m\n",
            "\u001b[0;32mzmq/backend/cython/socket.pyx\u001b[0m in \u001b[0;36mzmq.backend.cython.socket._recv_copy\u001b[0;34m()\u001b[0m\n",
            "\u001b[0;32m/usr/local/lib/python3.7/dist-packages/zmq/backend/cython/checkrc.pxd\u001b[0m in \u001b[0;36mzmq.backend.cython.checkrc._check_rc\u001b[0;34m()\u001b[0m\n",
            "\u001b[0;31mKeyboardInterrupt\u001b[0m: ",
            "\nDuring handling of the above exception, another exception occurred:\n",
            "\u001b[0;31mKeyboardInterrupt\u001b[0m                         Traceback (most recent call last)",
            "\u001b[0;32m<ipython-input-8-d6728a651000>\u001b[0m in \u001b[0;36m<module>\u001b[0;34m()\u001b[0m\n\u001b[0;32m----> 1\u001b[0;31m \u001b[0mpregunta_respuesta\u001b[0m\u001b[0;34m(\u001b[0m\u001b[0mmodel\u001b[0m\u001b[0;34m,\u001b[0m \u001b[0mcontexto\u001b[0m\u001b[0;34m,\u001b[0m \u001b[0mnlp\u001b[0m\u001b[0;34m)\u001b[0m\u001b[0;34m\u001b[0m\u001b[0;34m\u001b[0m\u001b[0m\n\u001b[0m",
            "\u001b[0;32m<ipython-input-6-16355a14db02>\u001b[0m in \u001b[0;36mpregunta_respuesta\u001b[0;34m(model, contexto, nlp)\u001b[0m\n\u001b[1;32m     13\u001b[0m     \u001b[0mprint\u001b[0m\u001b[0;34m(\u001b[0m\u001b[0;34m'\\nPregunta:'\u001b[0m\u001b[0;34m)\u001b[0m\u001b[0;34m\u001b[0m\u001b[0;34m\u001b[0m\u001b[0m\n\u001b[1;32m     14\u001b[0m     \u001b[0mprint\u001b[0m\u001b[0;34m(\u001b[0m\u001b[0;34m'-----------------'\u001b[0m\u001b[0;34m)\u001b[0m\u001b[0;34m\u001b[0m\u001b[0;34m\u001b[0m\u001b[0m\n\u001b[0;32m---> 15\u001b[0;31m     \u001b[0mpregunta\u001b[0m \u001b[0;34m=\u001b[0m \u001b[0mstr\u001b[0m\u001b[0;34m(\u001b[0m\u001b[0minput\u001b[0m\u001b[0;34m(\u001b[0m\u001b[0;34m)\u001b[0m\u001b[0;34m)\u001b[0m\u001b[0;34m\u001b[0m\u001b[0;34m\u001b[0m\u001b[0m\n\u001b[0m\u001b[1;32m     16\u001b[0m \u001b[0;34m\u001b[0m\u001b[0m\n\u001b[1;32m     17\u001b[0m     \u001b[0mcontinuar\u001b[0m \u001b[0;34m=\u001b[0m \u001b[0mpregunta\u001b[0m\u001b[0;34m!=\u001b[0m\u001b[0;34m''\u001b[0m\u001b[0;34m\u001b[0m\u001b[0;34m\u001b[0m\u001b[0m\n",
            "\u001b[0;32m/usr/local/lib/python3.7/dist-packages/ipykernel/kernelbase.py\u001b[0m in \u001b[0;36mraw_input\u001b[0;34m(self, prompt)\u001b[0m\n\u001b[1;32m    702\u001b[0m             \u001b[0mself\u001b[0m\u001b[0;34m.\u001b[0m\u001b[0m_parent_ident\u001b[0m\u001b[0;34m,\u001b[0m\u001b[0;34m\u001b[0m\u001b[0;34m\u001b[0m\u001b[0m\n\u001b[1;32m    703\u001b[0m             \u001b[0mself\u001b[0m\u001b[0;34m.\u001b[0m\u001b[0m_parent_header\u001b[0m\u001b[0;34m,\u001b[0m\u001b[0;34m\u001b[0m\u001b[0;34m\u001b[0m\u001b[0m\n\u001b[0;32m--> 704\u001b[0;31m             \u001b[0mpassword\u001b[0m\u001b[0;34m=\u001b[0m\u001b[0;32mFalse\u001b[0m\u001b[0;34m,\u001b[0m\u001b[0;34m\u001b[0m\u001b[0;34m\u001b[0m\u001b[0m\n\u001b[0m\u001b[1;32m    705\u001b[0m         )\n\u001b[1;32m    706\u001b[0m \u001b[0;34m\u001b[0m\u001b[0m\n",
            "\u001b[0;32m/usr/local/lib/python3.7/dist-packages/ipykernel/kernelbase.py\u001b[0m in \u001b[0;36m_input_request\u001b[0;34m(self, prompt, ident, parent, password)\u001b[0m\n\u001b[1;32m    732\u001b[0m             \u001b[0;32mexcept\u001b[0m \u001b[0mKeyboardInterrupt\u001b[0m\u001b[0;34m:\u001b[0m\u001b[0;34m\u001b[0m\u001b[0;34m\u001b[0m\u001b[0m\n\u001b[1;32m    733\u001b[0m                 \u001b[0;31m# re-raise KeyboardInterrupt, to truncate traceback\u001b[0m\u001b[0;34m\u001b[0m\u001b[0;34m\u001b[0m\u001b[0;34m\u001b[0m\u001b[0m\n\u001b[0;32m--> 734\u001b[0;31m                 \u001b[0;32mraise\u001b[0m \u001b[0mKeyboardInterrupt\u001b[0m\u001b[0;34m\u001b[0m\u001b[0;34m\u001b[0m\u001b[0m\n\u001b[0m\u001b[1;32m    735\u001b[0m             \u001b[0;32melse\u001b[0m\u001b[0;34m:\u001b[0m\u001b[0;34m\u001b[0m\u001b[0;34m\u001b[0m\u001b[0m\n\u001b[1;32m    736\u001b[0m                 \u001b[0;32mbreak\u001b[0m\u001b[0;34m\u001b[0m\u001b[0;34m\u001b[0m\u001b[0m\n",
            "\u001b[0;31mKeyboardInterrupt\u001b[0m: "
          ]
        }
      ]
    },
    {
      "cell_type": "code",
      "metadata": {
        "id": "UwZ5jx_7XxNq"
      },
      "source": [
        "borges = \"\"\"\n",
        "Que yo recuerde, mis trabajos empezaron en un jardín de Tebas Hekatómpylos, cuando Diocleciano era emperador. Yo había militado (sin gloria) en las recientes guerras egipcias, yo era tribuno de una legión que estuvo acuartelada en Berenice, frente al Mar Rojo: la fiebre y la magia consumieron a muchos hombres que codiciaban magnánimos el acero. Los mauritanos fueron vencidos; la tierra que antes ocuparon las ciudades rebeldes fue dedicada eternamente a los dioses plutónicos; Alejandría, debelada, imploró en vano la misericordia del César; antes de un año las legiones reportaron el triunfo, pero yo logré apenas divisar el rostro de Marte. Esa privación me dolió y fue tal vez la causa de que yo me arrojara a descubrir, por temerosos y difusos desiertos, la secreta Ciudad de los Inmortales.\n",
        "Mis trabajos empezaron, he referido, en un jardín de Tebas. Toda esa noche no dormí, pues algo estaba combatiendo en mi corazón. Me levanté poco antes del alba; mis esclavos dormían, la luna tenia el mismo color de la infinita arena. Un jinete rendido y ensangrentado venia del oriente. A unos pasos de mi, rodó del caballo. Con una tenue voz insaciable me preguntó en latín el nombre del río que bañaba los muros de la ciudad. Le respondí que era el Egipto, que alimentan las lluvias. Otro es el río que persigo, replicó tristemente, el río secreto que purifica de la muerte a los hombres. Oscura sangre le manaba del pecho. Me dijo que su patria era una montaña que está del otro lado del Ganges y que en esa montaña era fama que si alguien caminara hasta el occidente, donde se acaba el mundo, llegaría al río cuyas aguas dan la inmortalidad. Agregó que en la margen ulterior se eleva la Ciudad de los Inmortales, rica en baluartes y anfiteatros y templos. Antes de la aurora murió, pero yo determiné descubrir la ciudad y su río. Interrogados por el verdugo, algunos prisioneros mauritanos confirmaron la relación del viajero; alguien recordó la llanura elísea, en el término de la tierra, donde la vida de los hombres es perdurable; alguien, las cumbres donde nace el Pactolo, cuyos moradores viven un siglo. En Roma, conversé con filósofos que sintieron que dilatar la vida de los hombres era dilatar su agonía y multiplicar el número de sus muertes. Ignoro si creí alguna vez en la Ciudad de los Inmortales: pienso que entonces me bastó la tarea de buscarla. Flavio, procónsul de Getulia, me entregó doscientos soldados para la empresa. También recluté mercenarios, que se dijeron conocedores de los caminos y que fueron los primeros en desertar.\n",
        "Los hechos ulteriores han deformado hasta lo inextricable el recuerdo de nuestras primeras jornadas. Partimos de Arsinoe y entramos en el abrasado desierto. Atravesamos el país de los trogloditas, que devoran serpientes y carecen del comercio de la palabra; el de los garamantas, que tienen las mujeres en común y se nutren de leones; el de los augilas, que sólo veneran el Tártaro. Fatigamos otros desiertos, donde es negra la arena, donde el viajero debe usurpar las horas de la noche, pues el fervor del día es intolerable. De lejos divisé la montaña que dio nombre al Océano; en sus laderas crece el euforbio, que anula los venenos; en la cumbre habitan los sátiros, nación de hombres ferales y rústicos, inclinados a la lujuria. Que esas regiones barbaras, donde la tierra es madre de monstruos, pudieran albergar en su seno una ciudad famosa, a todos nos pareció inconcebible. Proseguimos la marcha, pues hubiera sido una afrenta retroceder. Algunos temerarios durmieron con la cara expuesta a la luna; la fiebre los ardió; en el agua depravada de las cisternas otros bebieron la locura y la muerte. Entonces comenzaron las deserciones; muy poco después, los motines. Para reprimirlos, no vacilé ante el ejercicio de la severidad. Procedí rectamente, pero un centurión me advirtió que los sediciosos (ávidos de vengar la crucifixión de uno de ellos) maquinaban mi muerte. Huí del campamento con los pocos soldados que me eran fieles. En el desierto los perdí, entre los remolinos de arena y la vasta noche. Una flecha cretense me laceró. Varios días erré sin encontrar agua, o un solo enorme día multiplicado por el sol, por la sed y por el temor de la sed. Deje el camino al arbitrio de mi caballo. En el alba, la lejanía se erizó de pirámides y de torres. Insoportablemente soñé con un exiguo y nítido laberinto: en el centro había un cántaro; mis manos casi lo tocaban, mis ojos lo veían, pero tan intrincadas y perplejas eran las curvas que yo sabía que iba a morir antes de alcanzarlo.\n",
        "\"\"\""
      ],
      "execution_count": 10,
      "outputs": []
    },
    {
      "cell_type": "code",
      "metadata": {
        "colab": {
          "base_uri": "https://localhost:8080/"
        },
        "id": "OVG1NERg_kdd",
        "outputId": "5d670765-80e5-4a81-b403-a3612c5c44f2"
      },
      "source": [
        "contexto = borges\n",
        "pregunta_respuesta(model, contexto, nlp)"
      ],
      "execution_count": null,
      "outputs": [
        {
          "output_type": "stream",
          "text": [
            "Contexto:\n",
            "-----------------\n",
            " Que yo recuerde, mis trabajos empezaron en un jardín de Tebas\n",
            "Hekatómpylos, cuando Diocleciano era emperador. Yo había militado (sin\n",
            "gloria) en las recientes guerras egipcias, yo era tribuno de una\n",
            "legión que estuvo acuartelada en Berenice, frente al Mar Rojo: la\n",
            "fiebre y la magia consumieron a muchos hombres que codiciaban\n",
            "magnánimos el acero. Los mauritanos fueron vencidos; la tierra que\n",
            "antes ocuparon las ciudades rebeldes fue dedicada eternamente a los\n",
            "dioses plutónicos; Alejandría, debelada, imploró en vano la\n",
            "misericordia del César; antes de un año las legiones reportaron el\n",
            "triunfo, pero yo logré apenas divisar el rostro de Marte. Esa\n",
            "privación me dolió y fue tal vez la causa de que yo me arrojara a\n",
            "descubrir, por temerosos y difusos desiertos, la secreta Ciudad de los\n",
            "Inmortales. Mis trabajos empezaron, he referido, en un jardín de\n",
            "Tebas. Toda esa noche no dormí, pues algo estaba combatiendo en mi\n",
            "corazón. Me levanté poco antes del alba; mis esclavos dormían, la luna\n",
            "tenia el mismo color de la infinita arena. Un jinete rendido y\n",
            "ensangrentado venia del oriente. A unos pasos de mi, rodó del caballo.\n",
            "Con una tenue voz insaciable me preguntó en latín el nombre del río\n",
            "que bañaba los muros de la ciudad. Le respondí que era el Egipto, que\n",
            "alimentan las lluvias. Otro es el río que persigo, replicó\n",
            "tristemente, el río secreto que purifica de la muerte a los hombres.\n",
            "Oscura sangre le manaba del pecho. Me dijo que su patria era una\n",
            "montaña que está del otro lado del Ganges y que en esa montaña era\n",
            "fama que si alguien caminara hasta el occidente, donde se acaba el\n",
            "mundo, llegaría al río cuyas aguas dan la inmortalidad. Agregó que en\n",
            "la margen ulterior se eleva la Ciudad de los Inmortales, rica en\n",
            "baluartes y anfiteatros y templos. Antes de la aurora murió, pero yo\n",
            "determiné descubrir la ciudad y su río. Interrogados por el verdugo,\n",
            "algunos prisioneros mauritanos confirmaron la relación del viajero;\n",
            "alguien recordó la llanura elísea, en el término de la tierra, donde\n",
            "la vida de los hombres es perdurable; alguien, las cumbres donde nace\n",
            "el Pactolo, cuyos moradores viven un siglo. En Roma, conversé con\n",
            "filósofos que sintieron que dilatar la vida de los hombres era dilatar\n",
            "su agonía y multiplicar el número de sus muertes. Ignoro si creí\n",
            "alguna vez en la Ciudad de los Inmortales: pienso que entonces me\n",
            "bastó la tarea de buscarla. Flavio, procónsul de Getulia, me entregó\n",
            "doscientos soldados para la empresa. También recluté mercenarios, que\n",
            "se dijeron conocedores de los caminos y que fueron los primeros en\n",
            "desertar. Los hechos ulteriores han deformado hasta lo inextricable el\n",
            "recuerdo de nuestras primeras jornadas. Partimos de Arsinoe y entramos\n",
            "en el abrasado desierto. Atravesamos el país de los trogloditas, que\n",
            "devoran serpientes y carecen del comercio de la palabra; el de los\n",
            "garamantas, que tienen las mujeres en común y se nutren de leones; el\n",
            "de los augilas, que sólo veneran el Tártaro. Fatigamos otros\n",
            "desiertos, donde es negra la arena, donde el viajero debe usurpar las\n",
            "horas de la noche, pues el fervor del día es intolerable. De lejos\n",
            "divisé la montaña que dio nombre al Océano; en sus laderas crece el\n",
            "euforbio, que anula los venenos; en la cumbre habitan los sátiros,\n",
            "nación de hombres ferales y rústicos, inclinados a la lujuria. Que\n",
            "esas regiones barbaras, donde la tierra es madre de monstruos,\n",
            "pudieran albergar en su seno una ciudad famosa, a todos nos pareció\n",
            "inconcebible. Proseguimos la marcha, pues hubiera sido una afrenta\n",
            "retroceder. Algunos temerarios durmieron con la cara expuesta a la\n",
            "luna; la fiebre los ardió; en el agua depravada de las cisternas otros\n",
            "bebieron la locura y la muerte. Entonces comenzaron las deserciones;\n",
            "muy poco después, los motines. Para reprimirlos, no vacilé ante el\n",
            "ejercicio de la severidad. Procedí rectamente, pero un centurión me\n",
            "advirtió que los sediciosos (ávidos de vengar la crucifixión de uno de\n",
            "ellos) maquinaban mi muerte. Huí del campamento con los pocos soldados\n",
            "que me eran fieles. En el desierto los perdí, entre los remolinos de\n",
            "arena y la vasta noche. Una flecha cretense me laceró. Varios días\n",
            "erré sin encontrar agua, o un solo enorme día multiplicado por el sol,\n",
            "por la sed y por el temor de la sed. Deje el camino al arbitrio de mi\n",
            "caballo. En el alba, la lejanía se erizó de pirámides y de torres.\n",
            "Insoportablemente soñé con un exiguo y nítido laberinto: en el centro\n",
            "había un cántaro; mis manos casi lo tocaban, mis ojos lo veían, pero\n",
            "tan intrincadas y perplejas eran las curvas que yo sabía que iba a\n",
            "morir antes de alcanzarlo.\n",
            "\n",
            "Pregunta:\n",
            "-----------------\n",
            "donde comenzaron mis trabajos?\n",
            "\n",
            "Respuesta:\n",
            "-----------------\n",
            "un jardín de Tebas Hekatómpylos\n",
            "\n",
            "Pregunta:\n",
            "-----------------\n",
            "que me advirtio el centurion?\n",
            "\n",
            "Respuesta:\n",
            "-----------------\n",
            "la secreta Ciudad de los Inmortales\n",
            "\n",
            "Pregunta:\n",
            "-----------------\n",
            "quien es flavio?\n",
            "\n",
            "Respuesta:\n",
            "-----------------\n",
            "procónsul de Getulia\n",
            "\n",
            "Pregunta:\n",
            "-----------------\n"
          ],
          "name": "stdout"
        }
      ]
    },
    {
      "cell_type": "code",
      "metadata": {
        "id": "WIrXYpR0Io9u"
      },
      "source": [
        ""
      ],
      "execution_count": null,
      "outputs": []
    }
  ]
}